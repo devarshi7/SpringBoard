{
 "cells": [
  {
   "cell_type": "markdown",
   "metadata": {},
   "source": [
    "This exercise will require you to pull some data from the Qunadl API. Qaundl is currently the most widely used aggregator of financial market data."
   ]
  },
  {
   "cell_type": "markdown",
   "metadata": {},
   "source": [
    "As a first step, you will need to register a free account on the http://www.quandl.com website."
   ]
  },
  {
   "cell_type": "markdown",
   "metadata": {},
   "source": [
    "After you register, you will be provided with a unique API key, that you should store:"
   ]
  },
  {
   "cell_type": "code",
   "execution_count": 2,
   "metadata": {
    "collapsed": true
   },
   "outputs": [],
   "source": [
    "# Store the API key as a string - according to PEP8, constants are always named in all upper case\n",
    "#API_KEY = ''"
   ]
  },
  {
   "cell_type": "markdown",
   "metadata": {},
   "source": [
    "Qaundl has a large number of data sources, but, unfortunately, most of them require a Premium subscription. Still, there are also a good number of free datasets."
   ]
  },
  {
   "cell_type": "markdown",
   "metadata": {},
   "source": [
    "For this mini project, we will focus on equities data from the Frankfurt Stock Exhange (FSE), which is available for free. We'll try and analyze the stock prices of a company called Carl Zeiss Meditec, which manufactures tools for eye examinations, as well as medical lasers for laser eye surgery: https://www.zeiss.com/meditec/int/home.html. The company is listed under the stock ticker AFX_X."
   ]
  },
  {
   "cell_type": "markdown",
   "metadata": {},
   "source": [
    "You can find the detailed Quandl API instructions here: https://docs.quandl.com/docs/time-series"
   ]
  },
  {
   "cell_type": "markdown",
   "metadata": {},
   "source": [
    "While there is a dedicated Python package for connecting to the Quandl API, we would prefer that you use the *requests* package, which can be easily downloaded using *pip* or *conda*. You can find the documentation for the package here: http://docs.python-requests.org/en/master/ "
   ]
  },
  {
   "cell_type": "markdown",
   "metadata": {},
   "source": [
    "Finally, apart from the *requests* package, you are encouraged to not use any third party Python packages, such as *pandas*, and instead focus on what's available in the Python Standard Library (the *collections* module might come in handy: https://pymotw.com/3/collections/).\n",
    "Also, since you won't have access to DataFrames, you are encouraged to us Python's native data structures - preferably dictionaries, though some questions can also be answered using lists.\n",
    "You can read more on these data structures here: https://docs.python.org/3/tutorial/datastructures.html"
   ]
  },
  {
   "cell_type": "markdown",
   "metadata": {},
   "source": [
    "Keep in mind that the JSON responses you will be getting from the API map almost one-to-one to Python's dictionaries. Unfortunately, they can be very nested, so make sure you read up on indexing dictionaries in the documentation provided above."
   ]
  },
  {
   "cell_type": "code",
   "execution_count": 3,
   "metadata": {
    "collapsed": true
   },
   "outputs": [],
   "source": [
    "# First, import the relevant modules\n",
    "import requests\n",
    "import json\n"
   ]
  },
  {
   "cell_type": "code",
   "execution_count": 4,
   "metadata": {
    "collapsed": true
   },
   "outputs": [],
   "source": [
    "with open(r'') as key_file:\n",
    "      key = json.load(key_file)\n",
    "\n",
    "API_KEY = key['api_key']"
   ]
  },
  {
   "cell_type": "code",
   "execution_count": 5,
   "metadata": {
    "collapsed": true
   },
   "outputs": [],
   "source": [
    "# Now, call the Quandl API and pull out a small sample of the data (only one day) to get a glimpse\n",
    "# into the JSON structure that will be returned"
   ]
  },
  {
   "cell_type": "code",
   "execution_count": 6,
   "metadata": {
    "collapsed": true
   },
   "outputs": [],
   "source": [
    "# Getting response for a particular year in a dict\n",
    "\n",
    "def get_year_data(year) :\n",
    "   \n",
    "    url = 'https://www.quandl.com/api/v3/datasets/FSE/AFX_X.json'\n",
    "     \n",
    "    start_date = str(year) + '-01-01'\n",
    "    end_date = str(year) + '-12-31'\n",
    "    params = {'start_date' : start_date , 'end_date' : end_date , 'api_key' : key['api_key']}\n",
    "   \n",
    "    req = requests.get(url, params=params)\n",
    "    \n",
    "    if req.status_code != 200 :\n",
    "        \n",
    "        print('Something is wrong: Error code ', r.status_code)\n",
    "        \n",
    "    return req.json()\n",
    "    "
   ]
  },
  {
   "cell_type": "code",
   "execution_count": 7,
   "metadata": {
    "collapsed": true
   },
   "outputs": [],
   "source": [
    "# Setting year value and getting data\n",
    "\n",
    "yr =2017\n",
    "data = get_year_data (yr)\n",
    "\n",
    "# Getting indices for column names in the list\n",
    "\n",
    "col_names =data['dataset']['column_names'] \n",
    "idx_high = col_names.index('High')\n",
    "idx_low = col_names.index('Low')\n",
    "idx_cls = col_names.index('Close')\n",
    "idx_open = col_names.index('Open')\n",
    "idx_tradedvol = col_names.index('Traded Volume')\n",
    "\n",
    "stock_det = data['dataset']['data']\n",
    "l =len(stock_det)\n"
   ]
  },
  {
   "cell_type": "code",
   "execution_count": 8,
   "metadata": {
    "collapsed": true
   },
   "outputs": [],
   "source": [
    "# opening price hi/low\n",
    "\n",
    "open_pr = [ stock_det[i][idx_open] \n",
    "           for i in range(l) if isinstance(stock_det[i][idx_open], float) ]\n",
    "\n",
    "# Gives max and min of a list\n",
    "\n",
    "def hilo_fun(list_):\n",
    "    \n",
    "    high_pr, low_pr = max(list_) , min(list_)\n",
    "\n",
    "    return high_pr, low_pr\n"
   ]
  },
  {
   "cell_type": "code",
   "execution_count": 9,
   "metadata": {
    "collapsed": true
   },
   "outputs": [],
   "source": [
    "# Max change in any one day : diff = High price - Low price\n",
    "\n",
    "max_diff = max ([ round( stock_det[i][idx_high] - stock_det[i][idx_low] , 3 )\n",
    "             for i in range(l) ])\n",
    "\n"
   ]
  },
  {
   "cell_type": "code",
   "execution_count": 10,
   "metadata": {
    "collapsed": true
   },
   "outputs": [],
   "source": [
    "# LArgest change in closing price in the time period\n",
    "\n",
    "close_pr =  [stock_det[i][idx_cls]  for i in range(l)  if isinstance(stock_det[i][idx_cls], float) ]\n",
    "\n",
    "# Gives largest change by taking the difference of max and min of the list\n",
    "\n",
    "def largest_change(list_) :\n",
    "    \n",
    "    diff = max(list_) - min(list_)\n",
    "    \n",
    "    return diff\n",
    "\n"
   ]
  },
  {
   "cell_type": "code",
   "execution_count": 11,
   "metadata": {
    "collapsed": true
   },
   "outputs": [],
   "source": [
    "# average and median volume\n",
    "\n",
    "traded_vol =  [stock_det[i][idx_tradedvol]  for i in range(l)  if isinstance(stock_det[i][idx_tradedvol], float) ]\n",
    "\n",
    "\n",
    "def average_fun(list_):\n",
    "    \n",
    "    avg =  round(sum(list_)/len(list_), 3)\n",
    "    \n",
    "    return avg\n",
    "    \n",
    "    \n",
    "def median_fun(list_):\n",
    "    \n",
    "    list_.sort()\n",
    "    l = len(list_)\n",
    "    \n",
    "    if  l % 2 == 0:\n",
    "        \n",
    "        med = (list_[l/2] + list_[l/2 + 1]) / 2\n",
    "       \n",
    "    else:\n",
    "        med = list_[int(l/2)]\n",
    "    \n",
    "    return med\n",
    "\n"
   ]
  },
  {
   "cell_type": "markdown",
   "metadata": {},
   "source": [
    "These are your tasks for this mini project:\n",
    "\n",
    "1. Collect data from the Franfurt Stock Exchange, for the ticker AFX_X, for the whole year 2017 (keep in mind that the date format is YYYY-MM-DD).\n",
    "2. Convert the returned JSON object into a Python dictionary.\n",
    "3. Calculate what the highest and lowest opening prices were for the stock in this period.\n",
    "4. What was the largest change in any one day (based on High and Low price)?\n",
    "5. What was the largest change between any two days (based on Closing Price)?\n",
    "6. What was the average daily trading volume during this year?\n",
    "7. (Optional) What was the median trading volume during this year. (Note: you may need to implement your own function for calculating the median.)"
   ]
  },
  {
   "cell_type": "code",
   "execution_count": 12,
   "metadata": {
    "collapsed": false
   },
   "outputs": [
    {
     "name": "stdout",
     "output_type": "stream",
     "text": [
      " # 3 : The highest and lowest opening prices respectively are  (53.11, 34.0) \n",
      " # 4 : Largest change in prices in any one day is  2.81 \n",
      " # 5 : Largest change in close price between any two days is 19.03 \n",
      " # 6 : Average daily trading volume is  89124.337 \n",
      " # 7 : The median trading volume is  76286.0 \n",
      "\n"
     ]
    }
   ],
   "source": [
    "print(' # 3 : The highest and lowest opening prices respectively are ', hilo_fun(open_pr), '\\n',\n",
    "     '# 4 : Largest change in prices in any one day is ' , max_diff, '\\n',\n",
    "     '# 5 : Largest change in close price between any two days is' , largest_change(close_pr),'\\n',\n",
    "     '# 6 : Average daily trading volume is ', average_fun(traded_vol), '\\n',\n",
    "     '# 7 : The median trading volume is ', median_fun(traded_vol), '\\n')\n"
   ]
  },
  {
   "cell_type": "code",
   "execution_count": null,
   "metadata": {
    "collapsed": true
   },
   "outputs": [],
   "source": []
  }
 ],
 "metadata": {
  "kernelspec": {
   "display_name": "Python 3",
   "language": "python",
   "name": "python3"
  },
  "language_info": {
   "codemirror_mode": {
    "name": "ipython",
    "version": 3
   },
   "file_extension": ".py",
   "mimetype": "text/x-python",
   "name": "python",
   "nbconvert_exporter": "python",
   "pygments_lexer": "ipython3",
   "version": "3.6.0"
  }
 },
 "nbformat": 4,
 "nbformat_minor": 2
}
